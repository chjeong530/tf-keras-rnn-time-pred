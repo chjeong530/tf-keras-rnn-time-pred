{
 "cells": [
  {
   "cell_type": "code",
   "execution_count": 1,
   "metadata": {},
   "outputs": [
    {
     "name": "stderr",
     "output_type": "stream",
     "text": [
      "/Users/chjeong/.pyenv/versions/3.6.3/lib/python3.6/importlib/_bootstrap.py:219: RuntimeWarning: compiletime version 3.5 of module 'tensorflow.python.framework.fast_tensor_util' does not match runtime version 3.6\n",
      "  return f(*args, **kwds)\n"
     ]
    }
   ],
   "source": [
    "import numpy as np\n",
    "import pandas as pd\n",
    "\n",
    "import tensorflow as tf\n",
    "from sklearn.preprocessing import MinMaxScaler\n",
    "import matplotlib.pyplot as plt\n"
   ]
  },
  {
   "cell_type": "code",
   "execution_count": 2,
   "metadata": {},
   "outputs": [],
   "source": [
    "data = pd.read_csv('./data/all_stocks_5yr.csv')\n",
    "cl = data[data['Name']=='MMM'].close"
   ]
  },
  {
   "cell_type": "code",
   "execution_count": 3,
   "metadata": {},
   "outputs": [],
   "source": [
    "def set_data(cl):\n",
    "    scl = MinMaxScaler()\n",
    "    #Scale the data\n",
    "    # pandas.__version__ < 0.23\n",
    "    # cl = cl.reshape(cl.shape[0],1)\n",
    "\n",
    "    # pandas.__version__ => 0.23\n",
    "    cl = cl.as_matrix()\n",
    "    cl = cl.reshape(cl.shape[0],1)\n",
    "\n",
    "    cl = scl.fit_transform(cl)\n",
    "    return cl, scl"
   ]
  },
  {
   "cell_type": "code",
   "execution_count": 4,
   "metadata": {},
   "outputs": [
    {
     "name": "stderr",
     "output_type": "stream",
     "text": [
      "/Users/chjeong/.pyenv/versions/3.6.3/envs/tensorflow/lib/python3.6/site-packages/ipykernel_launcher.py:8: FutureWarning: Method .as_matrix will be removed in a future version. Use .values instead.\n",
      "  \n"
     ]
    }
   ],
   "source": [
    "cl, scl = set_data(cl)"
   ]
  },
  {
   "cell_type": "code",
   "execution_count": 5,
   "metadata": {},
   "outputs": [
    {
     "data": {
      "text/plain": [
       "(1259, 1)"
      ]
     },
     "execution_count": 5,
     "metadata": {},
     "output_type": "execute_result"
    }
   ],
   "source": [
    "cl.shape"
   ]
  },
  {
   "cell_type": "code",
   "execution_count": 6,
   "metadata": {},
   "outputs": [],
   "source": [
    "def processData(data,lb):\n",
    "    X,Y = [],[]\n",
    "    for i in range(len(data)-lb-1):\n",
    "        X.append(data[i:(i+lb)])\n",
    "        Y.append(data[(i+lb),0])\n",
    "    return np.array(X),np.array(Y)"
   ]
  },
  {
   "cell_type": "code",
   "execution_count": 7,
   "metadata": {},
   "outputs": [],
   "source": [
    "X, y = processData(cl,7)"
   ]
  },
  {
   "cell_type": "code",
   "execution_count": 8,
   "metadata": {},
   "outputs": [
    {
     "name": "stdout",
     "output_type": "stream",
     "text": [
      "(1251, 7, 1)\n",
      "(1251,)\n"
     ]
    }
   ],
   "source": [
    "print(X.shape)\n",
    "print(y.shape)"
   ]
  },
  {
   "cell_type": "code",
   "execution_count": 9,
   "metadata": {},
   "outputs": [
    {
     "name": "stdout",
     "output_type": "stream",
     "text": [
      "1000\n",
      "251\n",
      "1000\n",
      "251\n"
     ]
    }
   ],
   "source": [
    "X_train,X_test = X[:int(X.shape[0]*0.80)],X[int(X.shape[0]*0.80):]\n",
    "y_train,y_test = y[:int(y.shape[0]*0.80)],y[int(y.shape[0]*0.80):]\n",
    "print(X_train.shape[0])\n",
    "print(X_test.shape[0])\n",
    "print(y_train.shape[0])\n",
    "print(y_test.shape[0])"
   ]
  },
  {
   "cell_type": "code",
   "execution_count": 25,
   "metadata": {
    "scrolled": true
   },
   "outputs": [
    {
     "name": "stdout",
     "output_type": "stream",
     "text": [
      "Train on 1000 samples, validate on 251 samples\n",
      "Epoch 1/10\n",
      "1000/1000 [==============================] - 2s 2ms/step - loss: 0.1377 - val_loss: 0.6349\n",
      "Epoch 2/10\n",
      "1000/1000 [==============================] - 0s 204us/step - loss: 0.1062 - val_loss: 0.5583\n",
      "Epoch 3/10\n",
      "1000/1000 [==============================] - 0s 204us/step - loss: 0.0845 - val_loss: 0.4989\n",
      "Epoch 4/10\n",
      "1000/1000 [==============================] - 0s 202us/step - loss: 0.0685 - val_loss: 0.4510\n",
      "Epoch 5/10\n",
      "1000/1000 [==============================] - 0s 203us/step - loss: 0.0566 - val_loss: 0.4116\n",
      "Epoch 6/10\n",
      "1000/1000 [==============================] - 0s 203us/step - loss: 0.0477 - val_loss: 0.3788\n",
      "Epoch 7/10\n",
      "1000/1000 [==============================] - 0s 206us/step - loss: 0.0409 - val_loss: 0.3513\n",
      "Epoch 8/10\n",
      "1000/1000 [==============================] - 0s 203us/step - loss: 0.0359 - val_loss: 0.3281\n",
      "Epoch 9/10\n",
      "1000/1000 [==============================] - 0s 203us/step - loss: 0.0322 - val_loss: 0.3084\n",
      "Epoch 10/10\n",
      "1000/1000 [==============================] - 0s 208us/step - loss: 0.0294 - val_loss: 0.2917\n",
      "Train on 1000 samples, validate on 251 samples\n",
      "Epoch 1/10\n",
      "1000/1000 [==============================] - 2s 2ms/step - loss: 0.0080 - val_loss: 0.0055\n",
      "Epoch 2/10\n",
      "1000/1000 [==============================] - 0s 238us/step - loss: 0.0078 - val_loss: 0.0043\n",
      "Epoch 3/10\n",
      "1000/1000 [==============================] - 0s 239us/step - loss: 0.0043 - val_loss: 0.0012\n",
      "Epoch 4/10\n",
      "1000/1000 [==============================] - 0s 237us/step - loss: 0.0014 - val_loss: 7.5158e-04\n",
      "Epoch 5/10\n",
      "1000/1000 [==============================] - 0s 238us/step - loss: 4.6757e-04 - val_loss: 9.8054e-04\n",
      "Epoch 6/10\n",
      "1000/1000 [==============================] - 0s 242us/step - loss: 3.3343e-04 - val_loss: 6.8569e-04\n",
      "Epoch 7/10\n",
      "1000/1000 [==============================] - 0s 239us/step - loss: 3.6262e-04 - val_loss: 6.0937e-04\n",
      "Epoch 8/10\n",
      "1000/1000 [==============================] - 0s 242us/step - loss: 3.8272e-04 - val_loss: 6.1966e-04\n",
      "Epoch 9/10\n",
      "1000/1000 [==============================] - 0s 239us/step - loss: 3.8761e-04 - val_loss: 6.4776e-04\n",
      "Epoch 10/10\n",
      "1000/1000 [==============================] - 0s 239us/step - loss: 3.7827e-04 - val_loss: 6.6826e-04\n",
      "Train on 1000 samples, validate on 251 samples\n",
      "Epoch 1/10\n",
      "1000/1000 [==============================] - 2s 2ms/step - loss: 0.0011 - val_loss: 0.0270\n",
      "Epoch 2/10\n",
      "1000/1000 [==============================] - 1s 501us/step - loss: 0.0055 - val_loss: 0.0017\n",
      "Epoch 3/10\n",
      "1000/1000 [==============================] - 0s 491us/step - loss: 0.0036 - val_loss: 0.0016\n",
      "Epoch 4/10\n",
      "1000/1000 [==============================] - 0s 488us/step - loss: 6.5542e-04 - val_loss: 7.1151e-04\n",
      "Epoch 5/10\n",
      "1000/1000 [==============================] - 0s 495us/step - loss: 5.1549e-04 - val_loss: 0.0014\n",
      "Epoch 6/10\n",
      "1000/1000 [==============================] - 1s 505us/step - loss: 5.2209e-04 - val_loss: 6.2552e-04\n",
      "Epoch 7/10\n",
      "1000/1000 [==============================] - 1s 505us/step - loss: 4.4098e-04 - val_loss: 8.5607e-04\n",
      "Epoch 8/10\n",
      "1000/1000 [==============================] - 1s 507us/step - loss: 4.8476e-04 - val_loss: 0.0010\n",
      "Epoch 9/10\n",
      "1000/1000 [==============================] - 1s 503us/step - loss: 6.4701e-04 - val_loss: 0.0010\n",
      "Epoch 10/10\n",
      "1000/1000 [==============================] - 1s 505us/step - loss: 7.0775e-04 - val_loss: 0.0010\n",
      "Train on 1000 samples, validate on 251 samples\n",
      "Epoch 1/10\n",
      "1000/1000 [==============================] - 3s 3ms/step - loss: 0.0060 - val_loss: 0.0267\n",
      "Epoch 2/10\n",
      "1000/1000 [==============================] - 0s 393us/step - loss: 0.0084 - val_loss: 0.0021\n",
      "Epoch 3/10\n",
      "1000/1000 [==============================] - 0s 390us/step - loss: 0.0057 - val_loss: 8.3329e-04\n",
      "Epoch 4/10\n",
      "1000/1000 [==============================] - 0s 395us/step - loss: 0.0021 - val_loss: 0.0013\n",
      "Epoch 5/10\n",
      "1000/1000 [==============================] - 0s 396us/step - loss: 8.7087e-04 - val_loss: 0.0021\n",
      "Epoch 6/10\n",
      "1000/1000 [==============================] - 0s 393us/step - loss: 5.8587e-04 - val_loss: 0.0017\n",
      "Epoch 7/10\n",
      "1000/1000 [==============================] - 0s 394us/step - loss: 4.3175e-04 - val_loss: 0.0011\n",
      "Epoch 8/10\n",
      "1000/1000 [==============================] - 0s 399us/step - loss: 3.4869e-04 - val_loss: 8.4293e-04\n",
      "Epoch 9/10\n",
      "1000/1000 [==============================] - 0s 396us/step - loss: 3.2226e-04 - val_loss: 7.5720e-04\n",
      "Epoch 10/10\n",
      "1000/1000 [==============================] - 0s 394us/step - loss: 3.1753e-04 - val_loss: 7.5981e-04\n"
     ]
    }
   ],
   "source": [
    "#Build the model\n",
    "model_1 = tf.keras.Sequential()\n",
    "model_1.add(tf.keras.layers.LSTM(1,input_shape=(7,1)))\n",
    "model_1.add(tf.keras.layers.Dense(1))\n",
    "model_1.compile(optimizer='adam',loss='mse')\n",
    "\n",
    "model_32 = tf.keras.Sequential()\n",
    "model_32.add(tf.keras.layers.LSTM(32,input_shape=(7,1)))\n",
    "model_32.add(tf.keras.layers.Dense(1))\n",
    "model_32.compile(optimizer='adam',loss='mse')\n",
    "\n",
    "model_256 = tf.keras.Sequential()\n",
    "model_256.add(tf.keras.layers.LSTM(256,input_shape=(7,1)))\n",
    "model_256.add(tf.keras.layers.Dense(1))\n",
    "model_256.compile(optimizer='adam',loss='mse')\n",
    "\n",
    "model_32_16 = tf.keras.Sequential()\n",
    "model_32_16.add(tf.keras.layers.LSTM(32, input_shape=(7,1), return_sequences=True))\n",
    "model_32_16.add(tf.keras.layers.LSTM(16))\n",
    "model_32_16.add(tf.keras.layers.Dense(1))\n",
    "model_32_16.compile(optimizer='adam',loss='mse')\n",
    "\n",
    "#Reshape data for (Sample,Timestep,Features) \n",
    "X_train = X_train.reshape((X_train.shape[0],X_train.shape[1],1))\n",
    "X_test = X_test.reshape((X_test.shape[0],X_test.shape[1],1))\n",
    "#Fit model with history to check for overfitting\n",
    "history_1 = model_1.fit(X_train,y_train,epochs=10,validation_data=(X_test,y_test),shuffle=False)\n",
    "history_32 = model_32.fit(X_train,y_train,epochs=10,validation_data=(X_test,y_test),shuffle=False)\n",
    "history_256 = model_256.fit(X_train,y_train,epochs=10,validation_data=(X_test,y_test),shuffle=False)\n",
    "history_32_16 = model_32_16.fit(X_train,y_train,epochs=10,validation_data=(X_test,y_test),shuffle=False)"
   ]
  },
  {
   "cell_type": "code",
   "execution_count": 26,
   "metadata": {},
   "outputs": [
    {
     "data": {
      "text/plain": [
       "[<matplotlib.lines.Line2D at 0x12cff6390>]"
      ]
     },
     "execution_count": 26,
     "metadata": {},
     "output_type": "execute_result"
    },
    {
     "data": {
      "image/png": "[encoded data removed]",
      "text/plain": [
       "<Figure size 432x288 with 1 Axes>"
      ]
     },
     "metadata": {
      "needs_background": "light"
     },
     "output_type": "display_data"
    }
   ],
   "source": [
    "plt.plot(history_1.history['loss'])\n",
    "plt.plot(history_1.history['val_loss'])"
   ]
  },
  {
   "cell_type": "code",
   "execution_count": 27,
   "metadata": {},
   "outputs": [
    {
     "data": {
      "text/plain": [
       "[<matplotlib.lines.Line2D at 0x123d36f60>]"
      ]
     },
     "execution_count": 27,
     "metadata": {},
     "output_type": "execute_result"
    },
    {
     "data": {
      "image/png": "[encoded data removed]",
      "text/plain": [
       "<Figure size 432x288 with 1 Axes>"
      ]
     },
     "metadata": {
      "needs_background": "light"
     },
     "output_type": "display_data"
    }
   ],
   "source": [
    "plt.plot(history_32.history['loss'])\n",
    "plt.plot(history_32.history['val_loss'])"
   ]
  },
  {
   "cell_type": "code",
   "execution_count": 29,
   "metadata": {},
   "outputs": [
    {
     "data": {
      "text/plain": [
       "[<matplotlib.lines.Line2D at 0x123ed8f98>]"
      ]
     },
     "execution_count": 29,
     "metadata": {},
     "output_type": "execute_result"
    },
    {
     "data": {
      "image/png": "[encoded data removed]",
      "text/plain": [
       "<Figure size 432x288 with 1 Axes>"
      ]
     },
     "metadata": {
      "needs_background": "light"
     },
     "output_type": "display_data"
    }
   ],
   "source": [
    "plt.plot(history_256.history['loss'])\n",
    "plt.plot(history_256.history['val_loss'])"
   ]
  },
  {
   "cell_type": "code",
   "execution_count": 30,
   "metadata": {},
   "outputs": [
    {
     "data": {
      "text/plain": [
       "[<matplotlib.lines.Line2D at 0x13590acc0>]"
      ]
     },
     "execution_count": 30,
     "metadata": {},
     "output_type": "execute_result"
    },
    {
     "data": {
      "image/png": "[encoded data removed]",
      "text/plain": [
       "<Figure size 432x288 with 1 Axes>"
      ]
     },
     "metadata": {
      "needs_background": "light"
     },
     "output_type": "display_data"
    }
   ],
   "source": [
    "plt.plot(history_32_16.history['loss'])\n",
    "plt.plot(history_32_16.history['val_loss'])"
   ]
  },
  {
   "cell_type": "code",
   "execution_count": 31,
   "metadata": {},
   "outputs": [
    {
     "data": {
      "text/plain": [
       "[<matplotlib.lines.Line2D at 0x12c6c1c88>]"
      ]
     },
     "execution_count": 31,
     "metadata": {},
     "output_type": "execute_result"
    },
    {
     "data": {
      "image/png": "[encoded data removed]",
      "text/plain": [
       "<Figure size 432x288 with 1 Axes>"
      ]
     },
     "metadata": {
      "needs_background": "light"
     },
     "output_type": "display_data"
    }
   ],
   "source": [
    "Xt_1 = model_1.predict(X_test)\n",
    "Xt_32 = model_32.predict(X_test)\n",
    "Xt_256 = model_256.predict(X_test)\n",
    "Xt_32_16 = model_32_16.predict(X_test)\n",
    "\n",
    "\n",
    "plt.plot(y_test.reshape(-1,1), color=\"r\")\n",
    "plt.plot(Xt_1, color=\"b\")\n",
    "plt.plot(Xt_32, color=\"y\")\n",
    "plt.plot(Xt_256, color=\"g\")\n",
    "plt.plot(Xt_32_16, color=\"k\")"
   ]
  },
  {
   "cell_type": "code",
   "execution_count": 32,
   "metadata": {},
   "outputs": [
    {
     "name": "stdout",
     "output_type": "stream",
     "text": [
      "predicted:[[0.16813111]], actual:[[0.82757522]]\n",
      "predicted:[[0.81287104]], actual:[[0.82757522]]\n",
      "predicted:[[0.7887875]], actual:[[0.82757522]]\n",
      "predicted:[[0.8043154]], actual:[[0.82757522]]\n"
     ]
    }
   ],
   "source": [
    "act = []\n",
    "pred = []\n",
    "#for i in range(250):\n",
    "i=200\n",
    "Xt_1 = model_1.predict(X_test[i].reshape(1,7,1))\n",
    "Xt_32 = model_32.predict(X_test[i].reshape(1,7,1))\n",
    "Xt_256 = model_256.predict(X_test[i].reshape(1,7,1))\n",
    "Xt_32_16 = model_32_16.predict(X_test[i].reshape(1,7,1))\n",
    "\n",
    "\n",
    "print('predicted:{0}, actual:{1}'.format(Xt_1,y_test[i].reshape(-1,1)))\n",
    "print('predicted:{0}, actual:{1}'.format(Xt_32,y_test[i].reshape(-1,1)))\n",
    "print('predicted:{0}, actual:{1}'.format(Xt_256,y_test[i].reshape(-1,1)))\n",
    "print('predicted:{0}, actual:{1}'.format(Xt_32_16,y_test[i].reshape(-1,1)))\n",
    "\n",
    "pred.append(scl.inverse_transform(Xt_1))\n",
    "pred.append(scl.inverse_transform(Xt_32))\n",
    "pred.append(scl.inverse_transform(Xt_256))\n",
    "pred.append(scl.inverse_transform(Xt_32_16))\n",
    "act.append(scl.inverse_transform(y_test[i].reshape(-1,1)))"
   ]
  },
  {
   "cell_type": "code",
   "execution_count": 33,
   "metadata": {},
   "outputs": [
    {
     "ename": "ValueError",
     "evalue": "arrays must all be same length",
     "output_type": "error",
     "traceback": [
      "\u001b[0;31m---------------------------------------------------------------------------\u001b[0m",
      "\u001b[0;31mValueError\u001b[0m                                Traceback (most recent call last)",
      "\u001b[0;32m<ipython-input-33-8a6047239406>\u001b[0m in \u001b[0;36m<module>\u001b[0;34m()\u001b[0m\n\u001b[0;32m----> 1\u001b[0;31m \u001b[0mresult_df\u001b[0m \u001b[0;34m=\u001b[0m \u001b[0mpd\u001b[0m\u001b[0;34m.\u001b[0m\u001b[0mDataFrame\u001b[0m\u001b[0;34m(\u001b[0m\u001b[0;34m{\u001b[0m\u001b[0;34m'pred'\u001b[0m\u001b[0;34m:\u001b[0m\u001b[0mlist\u001b[0m\u001b[0;34m(\u001b[0m\u001b[0mnp\u001b[0m\u001b[0;34m.\u001b[0m\u001b[0mreshape\u001b[0m\u001b[0;34m(\u001b[0m\u001b[0mpred\u001b[0m\u001b[0;34m,\u001b[0m \u001b[0;34m(\u001b[0m\u001b[0;34m-\u001b[0m\u001b[0;36m1\u001b[0m\u001b[0;34m)\u001b[0m\u001b[0;34m)\u001b[0m\u001b[0;34m)\u001b[0m\u001b[0;34m,\u001b[0m\u001b[0;34m'act'\u001b[0m\u001b[0;34m:\u001b[0m\u001b[0mlist\u001b[0m\u001b[0;34m(\u001b[0m\u001b[0mnp\u001b[0m\u001b[0;34m.\u001b[0m\u001b[0mreshape\u001b[0m\u001b[0;34m(\u001b[0m\u001b[0mact\u001b[0m\u001b[0;34m,\u001b[0m \u001b[0;34m(\u001b[0m\u001b[0;34m-\u001b[0m\u001b[0;36m1\u001b[0m\u001b[0;34m)\u001b[0m\u001b[0;34m)\u001b[0m\u001b[0;34m)\u001b[0m\u001b[0;34m}\u001b[0m\u001b[0;34m)\u001b[0m\u001b[0;34m\u001b[0m\u001b[0m\n\u001b[0m",
      "\u001b[0;32m~/.pyenv/versions/3.6.3/envs/tensorflow/lib/python3.6/site-packages/pandas/core/frame.py\u001b[0m in \u001b[0;36m__init__\u001b[0;34m(self, data, index, columns, dtype, copy)\u001b[0m\n\u001b[1;32m    346\u001b[0m                                  dtype=dtype, copy=copy)\n\u001b[1;32m    347\u001b[0m         \u001b[0;32melif\u001b[0m \u001b[0misinstance\u001b[0m\u001b[0;34m(\u001b[0m\u001b[0mdata\u001b[0m\u001b[0;34m,\u001b[0m \u001b[0mdict\u001b[0m\u001b[0;34m)\u001b[0m\u001b[0;34m:\u001b[0m\u001b[0;34m\u001b[0m\u001b[0m\n\u001b[0;32m--> 348\u001b[0;31m             \u001b[0mmgr\u001b[0m \u001b[0;34m=\u001b[0m \u001b[0mself\u001b[0m\u001b[0;34m.\u001b[0m\u001b[0m_init_dict\u001b[0m\u001b[0;34m(\u001b[0m\u001b[0mdata\u001b[0m\u001b[0;34m,\u001b[0m \u001b[0mindex\u001b[0m\u001b[0;34m,\u001b[0m \u001b[0mcolumns\u001b[0m\u001b[0;34m,\u001b[0m \u001b[0mdtype\u001b[0m\u001b[0;34m=\u001b[0m\u001b[0mdtype\u001b[0m\u001b[0;34m)\u001b[0m\u001b[0;34m\u001b[0m\u001b[0m\n\u001b[0m\u001b[1;32m    349\u001b[0m         \u001b[0;32melif\u001b[0m \u001b[0misinstance\u001b[0m\u001b[0;34m(\u001b[0m\u001b[0mdata\u001b[0m\u001b[0;34m,\u001b[0m \u001b[0mma\u001b[0m\u001b[0;34m.\u001b[0m\u001b[0mMaskedArray\u001b[0m\u001b[0;34m)\u001b[0m\u001b[0;34m:\u001b[0m\u001b[0;34m\u001b[0m\u001b[0m\n\u001b[1;32m    350\u001b[0m             \u001b[0;32mimport\u001b[0m \u001b[0mnumpy\u001b[0m\u001b[0;34m.\u001b[0m\u001b[0mma\u001b[0m\u001b[0;34m.\u001b[0m\u001b[0mmrecords\u001b[0m \u001b[0;32mas\u001b[0m \u001b[0mmrecords\u001b[0m\u001b[0;34m\u001b[0m\u001b[0m\n",
      "\u001b[0;32m~/.pyenv/versions/3.6.3/envs/tensorflow/lib/python3.6/site-packages/pandas/core/frame.py\u001b[0m in \u001b[0;36m_init_dict\u001b[0;34m(self, data, index, columns, dtype)\u001b[0m\n\u001b[1;32m    457\u001b[0m             \u001b[0marrays\u001b[0m \u001b[0;34m=\u001b[0m \u001b[0;34m[\u001b[0m\u001b[0mdata\u001b[0m\u001b[0;34m[\u001b[0m\u001b[0mk\u001b[0m\u001b[0;34m]\u001b[0m \u001b[0;32mfor\u001b[0m \u001b[0mk\u001b[0m \u001b[0;32min\u001b[0m \u001b[0mkeys\u001b[0m\u001b[0;34m]\u001b[0m\u001b[0;34m\u001b[0m\u001b[0m\n\u001b[1;32m    458\u001b[0m \u001b[0;34m\u001b[0m\u001b[0m\n\u001b[0;32m--> 459\u001b[0;31m         \u001b[0;32mreturn\u001b[0m \u001b[0m_arrays_to_mgr\u001b[0m\u001b[0;34m(\u001b[0m\u001b[0marrays\u001b[0m\u001b[0;34m,\u001b[0m \u001b[0mdata_names\u001b[0m\u001b[0;34m,\u001b[0m \u001b[0mindex\u001b[0m\u001b[0;34m,\u001b[0m \u001b[0mcolumns\u001b[0m\u001b[0;34m,\u001b[0m \u001b[0mdtype\u001b[0m\u001b[0;34m=\u001b[0m\u001b[0mdtype\u001b[0m\u001b[0;34m)\u001b[0m\u001b[0;34m\u001b[0m\u001b[0m\n\u001b[0m\u001b[1;32m    460\u001b[0m \u001b[0;34m\u001b[0m\u001b[0m\n\u001b[1;32m    461\u001b[0m     \u001b[0;32mdef\u001b[0m \u001b[0m_init_ndarray\u001b[0m\u001b[0;34m(\u001b[0m\u001b[0mself\u001b[0m\u001b[0;34m,\u001b[0m \u001b[0mvalues\u001b[0m\u001b[0;34m,\u001b[0m \u001b[0mindex\u001b[0m\u001b[0;34m,\u001b[0m \u001b[0mcolumns\u001b[0m\u001b[0;34m,\u001b[0m \u001b[0mdtype\u001b[0m\u001b[0;34m=\u001b[0m\u001b[0;32mNone\u001b[0m\u001b[0;34m,\u001b[0m \u001b[0mcopy\u001b[0m\u001b[0;34m=\u001b[0m\u001b[0;32mFalse\u001b[0m\u001b[0;34m)\u001b[0m\u001b[0;34m:\u001b[0m\u001b[0;34m\u001b[0m\u001b[0m\n",
      "\u001b[0;32m~/.pyenv/versions/3.6.3/envs/tensorflow/lib/python3.6/site-packages/pandas/core/frame.py\u001b[0m in \u001b[0;36m_arrays_to_mgr\u001b[0;34m(arrays, arr_names, index, columns, dtype)\u001b[0m\n\u001b[1;32m   7354\u001b[0m     \u001b[0;31m# figure out the index, if necessary\u001b[0m\u001b[0;34m\u001b[0m\u001b[0;34m\u001b[0m\u001b[0m\n\u001b[1;32m   7355\u001b[0m     \u001b[0;32mif\u001b[0m \u001b[0mindex\u001b[0m \u001b[0;32mis\u001b[0m \u001b[0;32mNone\u001b[0m\u001b[0;34m:\u001b[0m\u001b[0;34m\u001b[0m\u001b[0m\n\u001b[0;32m-> 7356\u001b[0;31m         \u001b[0mindex\u001b[0m \u001b[0;34m=\u001b[0m \u001b[0mextract_index\u001b[0m\u001b[0;34m(\u001b[0m\u001b[0marrays\u001b[0m\u001b[0;34m)\u001b[0m\u001b[0;34m\u001b[0m\u001b[0m\n\u001b[0m\u001b[1;32m   7357\u001b[0m \u001b[0;34m\u001b[0m\u001b[0m\n\u001b[1;32m   7358\u001b[0m     \u001b[0;31m# don't force copy because getting jammed in an ndarray anyway\u001b[0m\u001b[0;34m\u001b[0m\u001b[0;34m\u001b[0m\u001b[0m\n",
      "\u001b[0;32m~/.pyenv/versions/3.6.3/envs/tensorflow/lib/python3.6/site-packages/pandas/core/frame.py\u001b[0m in \u001b[0;36mextract_index\u001b[0;34m(data)\u001b[0m\n\u001b[1;32m   7400\u001b[0m             \u001b[0mlengths\u001b[0m \u001b[0;34m=\u001b[0m \u001b[0mlist\u001b[0m\u001b[0;34m(\u001b[0m\u001b[0mset\u001b[0m\u001b[0;34m(\u001b[0m\u001b[0mraw_lengths\u001b[0m\u001b[0;34m)\u001b[0m\u001b[0;34m)\u001b[0m\u001b[0;34m\u001b[0m\u001b[0m\n\u001b[1;32m   7401\u001b[0m             \u001b[0;32mif\u001b[0m \u001b[0mlen\u001b[0m\u001b[0;34m(\u001b[0m\u001b[0mlengths\u001b[0m\u001b[0;34m)\u001b[0m \u001b[0;34m>\u001b[0m \u001b[0;36m1\u001b[0m\u001b[0;34m:\u001b[0m\u001b[0;34m\u001b[0m\u001b[0m\n\u001b[0;32m-> 7402\u001b[0;31m                 \u001b[0;32mraise\u001b[0m \u001b[0mValueError\u001b[0m\u001b[0;34m(\u001b[0m\u001b[0;34m'arrays must all be same length'\u001b[0m\u001b[0;34m)\u001b[0m\u001b[0;34m\u001b[0m\u001b[0m\n\u001b[0m\u001b[1;32m   7403\u001b[0m \u001b[0;34m\u001b[0m\u001b[0m\n\u001b[1;32m   7404\u001b[0m             \u001b[0;32mif\u001b[0m \u001b[0mhave_dicts\u001b[0m\u001b[0;34m:\u001b[0m\u001b[0;34m\u001b[0m\u001b[0m\n",
      "\u001b[0;31mValueError\u001b[0m: arrays must all be same length"
     ]
    }
   ],
   "source": [
    "result_df = pd.DataFrame({'pred':list(np.reshape(pred, (-1))),'act':list(np.reshape(act, (-1)))})"
   ]
  }
 ],
 "metadata": {
  "kernelspec": {
   "display_name": "Python 3",
   "language": "python",
   "name": "python3"
  },
  "language_info": {
   "codemirror_mode": {
    "name": "ipython",
    "version": 3
   },
   "file_extension": ".py",
   "mimetype": "text/x-python",
   "name": "python",
   "nbconvert_exporter": "python",
   "pygments_lexer": "ipython3",
   "version": "3.6.3"
  }
 },
 "nbformat": 4,
 "nbformat_minor": 2
}
